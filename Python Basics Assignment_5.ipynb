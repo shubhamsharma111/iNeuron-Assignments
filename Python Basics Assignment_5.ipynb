{
 "cells": [
  {
   "cell_type": "markdown",
   "id": "53cd9839",
   "metadata": {},
   "source": [
    "# Python Basics Assignment_5"
   ]
  },
  {
   "cell_type": "markdown",
   "id": "95af46c3",
   "metadata": {},
   "source": [
    "### 1.What does an empty dictionary's code look like?\n",
    "Ans: An empty dictionary is often represented by two empty curly brackets\n",
    "d = {} or d = dict()"
   ]
  },
  {
   "cell_type": "markdown",
   "id": "fa6fa4d4",
   "metadata": {},
   "source": [
    "### 2.what is the value of dictionary value with key 'foo' and the value 42 ?\n",
    "Ans: {'foo':42}"
   ]
  },
  {
   "cell_type": "markdown",
   "id": "e5a4e3b3",
   "metadata": {},
   "source": [
    "### 3.What is the most significant distinction between a dictionary and a list?\n",
    "Ans: Dictionaries are represented by {} where as listed are represented by []\n",
    "The Items stored in a dictionary are Unordered , while the items in a list are ordered"
   ]
  },
  {
   "cell_type": "markdown",
   "id": "69047c97",
   "metadata": {},
   "source": [
    "### 4.What happens if you try to access spam ['foo'] if spam is {'bar':100} ?\n",
    "Ans: we will get a keyError KeyError: 'foo'"
   ]
  },
  {
   "cell_type": "markdown",
   "id": "3b23b14b",
   "metadata": {},
   "source": [
    "### 5.if a dictionary is stored in spam,what is the difference between the expressions 'cat' in spam and 'cat' in spam.keys() ?\n",
    "Ans: There is no difference . The operator checks whether a value exits as a key in the dictionary or not"
   ]
  },
  {
   "cell_type": "markdown",
   "id": "cfe3f68b",
   "metadata": {},
   "source": [
    "### 6.if a dictionary is stored in spam,what is the difference between the expressions 'cat' in spam and 'cat' in spam.values() ?\n",
    "Ans:'cat' in spam checks whether there is a 'cat' key in the dictionary, while 'cat' in spam.values() checks whether there is a value 'cat' for one of the keys in spam."
   ]
  },
  {
   "cell_type": "markdown",
   "id": "06575b25",
   "metadata": {},
   "source": [
    "### 7.what is a shortcut for the following code ?\n",
    "if 'color' not in spam: spam['color'] ='black'\n",
    "\n",
    "Ans: spam.setdefault('color','black')"
   ]
  },
  {
   "cell_type": "markdown",
   "id": "e77231a0",
   "metadata": {},
   "source": [
    "### 8.How do you 'pretty print' dictionary values using which modules and function ?\n",
    "Ans: we can pretty print a dictionary using three functions\n",
    "\n",
    "by using pprint() function of pprint module\n",
    "Note: pprint() function doesnot prettify nested dictionaries\n",
    "by using dumps() method of json module\n",
    "by using dumps() method of yaml module"
   ]
  },
  {
   "cell_type": "code",
   "execution_count": 1,
   "id": "75934220",
   "metadata": {},
   "outputs": [
    {
     "name": "stdout",
     "output_type": "stream",
     "text": [
      "Printing using print() function\n",
      " [{'Name': 'Amit', 'Age': '20', 'Residence': {'Country': 'INDIA', 'City': 'DOMAK TOWN IN AMRAVATI DISTRICT'}}, {'Name': 'Amey', 'Age': '20', 'Residence': {'Country': 'INDIA', 'City': 'JAVLAPUR TOWN IN AMRAVATI DISTRICT'}}, {'Name': 'Ritesh', 'Age': '18', 'Residence': {'Country': 'INDIA', 'City': 'DOMAK TOWN IN AMRAVATI DISTRICT'}}, {'Name': 'Himanshu', 'Age': '20', 'Residence': {'Country': 'INDIA', 'City': 'AMRAVATI CITY'}}]\n",
      "----------------------------------------------------------------------\n",
      "Printing using pprint() funciton\n",
      "[{'Age': '20',\n",
      "  'Name': 'Amit',\n",
      "  'Residence': {'City': 'DOMAK TOWN IN AMRAVATI DISTRICT', 'Country': 'INDIA'}},\n",
      " {'Age': '20',\n",
      "  'Name': 'Amey',\n",
      "  'Residence': {'City': 'JAVLAPUR TOWN IN AMRAVATI DISTRICT',\n",
      "                'Country': 'INDIA'}},\n",
      " {'Age': '18',\n",
      "  'Name': 'Ritesh',\n",
      "  'Residence': {'City': 'DOMAK TOWN IN AMRAVATI DISTRICT', 'Country': 'INDIA'}},\n",
      " {'Age': '20',\n",
      "  'Name': 'Himanshu',\n",
      "  'Residence': {'City': 'AMRAVATI CITY', 'Country': 'INDIA'}}]\n",
      "----------------------------------------------------------------------\n",
      "Printing using dumps() method\n",
      " [\n",
      "    {\n",
      "        \"Name\": \"Amit\",\n",
      "        \"Age\": \"20\",\n",
      "        \"Residence\": {\n",
      "            \"Country\": \"INDIA\",\n",
      "            \"City\": \"DOMAK TOWN IN AMRAVATI DISTRICT\"\n",
      "        }\n",
      "    },\n",
      "    {\n",
      "        \"Name\": \"Amey\",\n",
      "        \"Age\": \"20\",\n",
      "        \"Residence\": {\n",
      "            \"Country\": \"INDIA\",\n",
      "            \"City\": \"JAVLAPUR TOWN IN AMRAVATI DISTRICT\"\n",
      "        }\n",
      "    },\n",
      "    {\n",
      "        \"Name\": \"Ritesh\",\n",
      "        \"Age\": \"18\",\n",
      "        \"Residence\": {\n",
      "            \"Country\": \"INDIA\",\n",
      "            \"City\": \"DOMAK TOWN IN AMRAVATI DISTRICT\"\n",
      "        }\n",
      "    },\n",
      "    {\n",
      "        \"Name\": \"Himanshu\",\n",
      "        \"Age\": \"20\",\n",
      "        \"Residence\": {\n",
      "            \"Country\": \"INDIA\",\n",
      "            \"City\": \"AMRAVATI CITY\"\n",
      "        }\n",
      "    }\n",
      "]\n",
      "----------------------------------------------------------------------\n",
      "Printing using dump() method\n",
      " - Age: '20'\n",
      "  Name: Amit\n",
      "  Residence:\n",
      "    City: DOMAK TOWN IN AMRAVATI DISTRICT\n",
      "    Country: INDIA\n",
      "- Age: '20'\n",
      "  Name: Amey\n",
      "  Residence:\n",
      "    City: JAVLAPUR TOWN IN AMRAVATI DISTRICT\n",
      "    Country: INDIA\n",
      "- Age: '18'\n",
      "  Name: Ritesh\n",
      "  Residence:\n",
      "    City: DOMAK TOWN IN AMRAVATI DISTRICT\n",
      "    Country: INDIA\n",
      "- Age: '20'\n",
      "  Name: Himanshu\n",
      "  Residence:\n",
      "    City: AMRAVATI CITY\n",
      "    Country: INDIA\n",
      "\n"
     ]
    }
   ],
   "source": [
    "ndict = [\n",
    "  {'Name': 'Amit', 'Age': '20', 'Residence': {'Country':'INDIA', 'City': 'DOMAK TOWN IN AMRAVATI DISTRICT'}},\n",
    "  {'Name': 'Amey', 'Age': '20', 'Residence': {'Country':'INDIA', 'City': 'JAVLAPUR TOWN IN AMRAVATI DISTRICT'}},\n",
    "  {'Name': 'Ritesh', 'Age': '18', 'Residence': {'Country':'INDIA', 'City': 'DOMAK TOWN IN AMRAVATI DISTRICT'}},\n",
    "  {'Name': 'Himanshu', 'Age': '20', 'Residence': {'Country':'INDIA', 'City': 'AMRAVATI CITY'}}\n",
    "]\n",
    "\n",
    "print('Printing using print() function\\n',ndict)\n",
    "print('-'*70)\n",
    "import pprint\n",
    "print('Printing using pprint() funciton')\n",
    "pprint.pprint(ndict)\n",
    "print('-'*70)\n",
    "import json\n",
    "dump = json.dumps(ndict, indent=4)\n",
    "print('Printing using dumps() method\\n', dump)\n",
    "print('-'*70)\n",
    "import yaml\n",
    "dump = yaml.dump(ndict)\n",
    "print('Printing using dump() method\\n', dump)"
   ]
  },
  {
   "cell_type": "code",
   "execution_count": null,
   "id": "afa60b0f",
   "metadata": {},
   "outputs": [],
   "source": []
  }
 ],
 "metadata": {
  "kernelspec": {
   "display_name": "Python 3 (ipykernel)",
   "language": "python",
   "name": "python3"
  },
  "language_info": {
   "codemirror_mode": {
    "name": "ipython",
    "version": 3
   },
   "file_extension": ".py",
   "mimetype": "text/x-python",
   "name": "python",
   "nbconvert_exporter": "python",
   "pygments_lexer": "ipython3",
   "version": "3.9.13"
  }
 },
 "nbformat": 4,
 "nbformat_minor": 5
}
